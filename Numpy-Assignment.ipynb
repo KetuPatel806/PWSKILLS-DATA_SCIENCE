{
 "cells": [
  {
   "cell_type": "code",
   "execution_count": 18,
   "id": "6499ce3c-d040-4f26-9254-34f0e50cc22d",
   "metadata": {},
   "outputs": [],
   "source": [
    "import numpy as np"
   ]
  },
  {
   "cell_type": "markdown",
   "id": "06dbb546-8c16-4041-85ef-499e138aac1d",
   "metadata": {},
   "source": [
    "#### Q1. Is there any difference in the data type of variables list_ and array_list?If there is then write a code to print the data types of both the variables."
   ]
  },
  {
   "cell_type": "code",
   "execution_count": 68,
   "id": "61ee0ad8-d00d-4978-be12-792e73fb9caf",
   "metadata": {},
   "outputs": [
    {
     "name": "stdout",
     "output_type": "stream",
     "text": [
      "<class 'list'>\n",
      "<class 'numpy.ndarray'>\n"
     ]
    }
   ],
   "source": [
    "import numpy as np\n",
    "list_ = [ '1' , '2' , '3' , '4' , '5' ]\n",
    "array_list = np.array(object = list_)\n",
    "print(type(list_)) \n",
    "print(type(array_list))"
   ]
  },
  {
   "cell_type": "markdown",
   "id": "1c5643ef-974c-46a8-846c-81570bdd6039",
   "metadata": {},
   "source": [
    "#### Q2. Write a code to print the data type of each and every element of both the variables list_ and array_list."
   ]
  },
  {
   "cell_type": "code",
   "execution_count": 54,
   "id": "612cfb30-40f9-47cc-a33d-70419ce1e82f",
   "metadata": {},
   "outputs": [
    {
     "name": "stdout",
     "output_type": "stream",
     "text": [
      "<class 'str'>\n",
      "<class 'str'>\n",
      "<class 'str'>\n",
      "<class 'str'>\n",
      "<class 'str'>\n",
      "<class 'numpy.int64'>\n",
      "<class 'numpy.int64'>\n",
      "<class 'numpy.int64'>\n",
      "<class 'numpy.int64'>\n",
      "<class 'numpy.int64'>\n"
     ]
    }
   ],
   "source": [
    "for element in list_ :\n",
    "    print(type(element))\n",
    "for element in array_list :\n",
    "    print(type(element))"
   ]
  },
  {
   "cell_type": "markdown",
   "id": "94b433ad-7930-42e2-805e-8ad05456191a",
   "metadata": {},
   "source": [
    "#### Q3. Considering the following changes in the variable, array_list:"
   ]
  },
  {
   "cell_type": "code",
   "execution_count": 58,
   "id": "a6720da7-84ca-477d-a777-084de777c4a4",
   "metadata": {},
   "outputs": [],
   "source": [
    "array_list = np.array(object = list_ , dtype = int)"
   ]
  },
  {
   "cell_type": "code",
   "execution_count": 59,
   "id": "cb52ae8e-0cb9-4ef5-b4c9-84b02ded5186",
   "metadata": {},
   "outputs": [
    {
     "name": "stdout",
     "output_type": "stream",
     "text": [
      "<class 'str'>\n",
      "<class 'str'>\n",
      "<class 'str'>\n",
      "<class 'str'>\n",
      "<class 'str'>\n",
      "<class 'numpy.int64'>\n",
      "<class 'numpy.int64'>\n",
      "<class 'numpy.int64'>\n",
      "<class 'numpy.int64'>\n",
      "<class 'numpy.int64'>\n"
     ]
    }
   ],
   "source": [
    "for element in list_ :\n",
    "    print(type(element))\n",
    "for element in array_list :\n",
    "    print(type(element))"
   ]
  },
  {
   "cell_type": "markdown",
   "id": "82acd2c3-4493-4c55-948f-355c41d1f1a6",
   "metadata": {},
   "source": [
    "#### Q4. Write a code to find the following characteristics of variable, num_array:\n",
    "\n",
    "###### 1) Shape 2) Size"
   ]
  },
  {
   "cell_type": "code",
   "execution_count": 60,
   "id": "3123966a-24c1-4b62-a57c-73d34da3450b",
   "metadata": {},
   "outputs": [],
   "source": [
    "import numpy as np\n",
    "num_list = [ [ 1 , 2 , 3 ] , [ 4 , 5 , 6 ] ]\n",
    "num_array = np.array(object = num_list)"
   ]
  },
  {
   "cell_type": "code",
   "execution_count": 63,
   "id": "33e56ec0-6236-4829-9f53-fba8c08bde61",
   "metadata": {},
   "outputs": [
    {
     "name": "stdout",
     "output_type": "stream",
     "text": [
      "(2, 3)\n"
     ]
    }
   ],
   "source": [
    "print(np.shape(num_array))"
   ]
  },
  {
   "cell_type": "code",
   "execution_count": 64,
   "id": "006077c7-7b0e-4d1d-bd92-1cd5f1127d2c",
   "metadata": {},
   "outputs": [
    {
     "name": "stdout",
     "output_type": "stream",
     "text": [
      "6\n"
     ]
    }
   ],
   "source": [
    "print(np.size(num_array))"
   ]
  },
  {
   "cell_type": "markdown",
   "id": "3aecceab-bdfd-4187-92e1-2591d1a6fec5",
   "metadata": {},
   "source": [
    "#### Q5. Write a code to create numpy array of 3*3 matrix containing zeros only, using a numpy array creation function."
   ]
  },
  {
   "cell_type": "code",
   "execution_count": 66,
   "id": "3f88bad8-e4c5-44cb-8f32-4fe0b774a1e6",
   "metadata": {},
   "outputs": [
    {
     "data": {
      "text/plain": [
       "array([[0., 0., 0.],\n",
       "       [0., 0., 0.],\n",
       "       [0., 0., 0.]])"
      ]
     },
     "execution_count": 66,
     "metadata": {},
     "output_type": "execute_result"
    }
   ],
   "source": [
    "Zero_array = np.zeros((3,3))\n",
    "Zero_array"
   ]
  },
  {
   "cell_type": "code",
   "execution_count": 67,
   "id": "a0a1f43f-3240-4898-8169-d546c7529723",
   "metadata": {},
   "outputs": [
    {
     "data": {
      "text/plain": [
       "array([[1., 0., 0., 0., 0.],\n",
       "       [0., 1., 0., 0., 0.],\n",
       "       [0., 0., 1., 0., 0.],\n",
       "       [0., 0., 0., 1., 0.],\n",
       "       [0., 0., 0., 0., 1.]])"
      ]
     },
     "execution_count": 67,
     "metadata": {},
     "output_type": "execute_result"
    }
   ],
   "source": [
    "Identity_matrix = np.eye(5)\n",
    "Identity_matrix"
   ]
  },
  {
   "cell_type": "code",
   "execution_count": null,
   "id": "725fb935-4ccf-40b6-9d0f-e96c6780af02",
   "metadata": {},
   "outputs": [],
   "source": []
  },
  {
   "cell_type": "code",
   "execution_count": null,
   "id": "0501c8a8-d619-402e-b2a8-51c17cc49993",
   "metadata": {},
   "outputs": [],
   "source": []
  },
  {
   "cell_type": "code",
   "execution_count": null,
   "id": "9fe01db6-78c2-490d-9766-b38a45f410dc",
   "metadata": {},
   "outputs": [],
   "source": []
  },
  {
   "cell_type": "code",
   "execution_count": null,
   "id": "1b8c66e1-1cbc-434b-853c-44743d195d9b",
   "metadata": {},
   "outputs": [],
   "source": []
  },
  {
   "cell_type": "code",
   "execution_count": null,
   "id": "c07e7538-4939-40cd-969c-6fdf7c98ac1a",
   "metadata": {},
   "outputs": [],
   "source": []
  },
  {
   "cell_type": "code",
   "execution_count": null,
   "id": "5cacff02-e9db-4645-a9cf-1306b1171e97",
   "metadata": {},
   "outputs": [],
   "source": []
  },
  {
   "cell_type": "code",
   "execution_count": null,
   "id": "9b27ab68-7286-44e1-9f7a-2847f575cd1c",
   "metadata": {},
   "outputs": [],
   "source": []
  },
  {
   "cell_type": "code",
   "execution_count": null,
   "id": "bb4645f5-914f-4b0f-9405-061bfd17d307",
   "metadata": {},
   "outputs": [],
   "source": []
  },
  {
   "cell_type": "code",
   "execution_count": null,
   "id": "0611b42d-ed40-4583-a198-13ada3347c04",
   "metadata": {},
   "outputs": [],
   "source": []
  },
  {
   "cell_type": "code",
   "execution_count": null,
   "id": "72622c94-4e2c-48da-9894-e26b1c3ff999",
   "metadata": {},
   "outputs": [],
   "source": []
  }
 ],
 "metadata": {
  "kernelspec": {
   "display_name": "Python 3 (ipykernel)",
   "language": "python",
   "name": "python3"
  },
  "language_info": {
   "codemirror_mode": {
    "name": "ipython",
    "version": 3
   },
   "file_extension": ".py",
   "mimetype": "text/x-python",
   "name": "python",
   "nbconvert_exporter": "python",
   "pygments_lexer": "ipython3",
   "version": "3.10.8"
  }
 },
 "nbformat": 4,
 "nbformat_minor": 5
}
